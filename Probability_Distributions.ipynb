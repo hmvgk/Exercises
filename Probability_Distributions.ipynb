{
  "cells": [
    {
      "cell_type": "code",
      "execution_count": 1,
      "metadata": {
        "id": "4JpUIdeeMtEM"
      },
      "outputs": [],
      "source": [
        "import numpy as np\n",
        "import pandas as pd\n",
        "from scipy import stats\n",
        "import matplotlib.pyplot as plt"
      ]
    },
    {
      "cell_type": "markdown",
      "metadata": {
        "id": "H3ZEWVWNMtEd"
      },
      "source": [
        "## Binomial Distribution\n",
        "*Source: Wackerly, D., Mendenhall, W., & Scheaffer, R. L. (2014). Mathematical statistics with applications. Cengage Learning.*"
      ]
    },
    {
      "cell_type": "markdown",
      "metadata": {
        "id": "FE0TOkBZMtEe"
      },
      "source": [
        "**Exercise 3.40**\n",
        "\n",
        "The probability that a patient recovers from a stomach disease is 0.8. \n",
        "\n",
        "Suppose 20 people are known to have contracted this disease. \n",
        "\n",
        "What is the probability that"
      ]
    },
    {
      "cell_type": "markdown",
      "metadata": {
        "id": "-TCTozH6MtEe"
      },
      "source": [
        "a. exactly 14 recover?"
      ]
    },
    {
      "cell_type": "markdown",
      "metadata": {
        "id": "ZOa3N-lPMtEe"
      },
      "source": [
        "this is P(X=14)"
      ]
    },
    {
      "cell_type": "code",
      "execution_count": 2,
      "metadata": {
        "id": "ozD26_KDMtEe"
      },
      "outputs": [],
      "source": [
        "n = 20\n",
        "p = 0.8\n",
        "x = 14"
      ]
    },
    {
      "cell_type": "code",
      "execution_count": 3,
      "metadata": {
        "id": "nWZ0FJY1MtEf",
        "colab": {
          "base_uri": "https://localhost:8080/"
        },
        "outputId": "9dbe8aae-c966-4c54-cbdb-f53676d6d42e"
      },
      "outputs": [
        {
          "output_type": "execute_result",
          "data": {
            "text/plain": [
              "0.10909970097304983"
            ]
          },
          "metadata": {},
          "execution_count": 3
        }
      ],
      "source": [
        "stats.binom.pmf(x, n, p)"
      ]
    },
    {
      "cell_type": "markdown",
      "metadata": {
        "id": "HQD9G29jMtEf"
      },
      "source": [
        "b. at least 10 recover?"
      ]
    },
    {
      "cell_type": "markdown",
      "metadata": {
        "id": "qKtfewg1MtEf"
      },
      "source": [
        "this is P(X≥10)=P(10)+P(11)+P(12)+...+P(20)"
      ]
    },
    {
      "cell_type": "code",
      "execution_count": 4,
      "metadata": {
        "id": "pmw4klaTMtEg"
      },
      "outputs": [],
      "source": [
        "x = 10"
      ]
    },
    {
      "cell_type": "code",
      "source": [
        "# cdf x=10 ise 10 a kadar toplam ihtimali verir."
      ],
      "metadata": {
        "id": "vhSKBEw_0LMS"
      },
      "execution_count": null,
      "outputs": []
    },
    {
      "cell_type": "code",
      "execution_count": 6,
      "metadata": {
        "id": "Fl7dHsMyMtEg",
        "colab": {
          "base_uri": "https://localhost:8080/"
        },
        "outputId": "56c42b95-8d6b-4274-dac4-535bc44a9e24"
      },
      "outputs": [
        {
          "output_type": "execute_result",
          "data": {
            "text/plain": [
              "0.9994365863023398"
            ]
          },
          "metadata": {},
          "execution_count": 6
        }
      ],
      "source": [
        "1- stats.binom.cdf(x-1, n, p)"
      ]
    },
    {
      "cell_type": "markdown",
      "metadata": {
        "id": "FcGeNA5gMtEg"
      },
      "source": [
        "c. at least 14 but not more than 18 recover?"
      ]
    },
    {
      "cell_type": "markdown",
      "metadata": {
        "id": "Gdi9AWbbMtEh"
      },
      "source": [
        "this is P(14≤X≤18)=P(14)+P(15)+...+P(18)"
      ]
    },
    {
      "cell_type": "code",
      "execution_count": 7,
      "metadata": {
        "id": "65mYVjDsMtEh"
      },
      "outputs": [],
      "source": [
        "x1 = 14\n",
        "x2 = 18"
      ]
    },
    {
      "cell_type": "code",
      "execution_count": 8,
      "metadata": {
        "id": "8GdEiajUMtEh",
        "colab": {
          "base_uri": "https://localhost:8080/"
        },
        "outputId": "5de3fede-0517-4465-eb73-eaf855c75eac"
      },
      "outputs": [
        {
          "output_type": "execute_result",
          "data": {
            "text/plain": [
              "0.844132196156189"
            ]
          },
          "metadata": {},
          "execution_count": 8
        }
      ],
      "source": [
        "stats.binom.cdf(x2,n,p)- stats.binom.cdf(x1-1,n,p)"
      ]
    },
    {
      "cell_type": "code",
      "execution_count": 9,
      "metadata": {
        "id": "eFdqtp7oMtEi",
        "colab": {
          "base_uri": "https://localhost:8080/"
        },
        "outputId": "08867513-f575-4c90-b494-183325ebaf8d"
      },
      "outputs": [
        {
          "output_type": "execute_result",
          "data": {
            "text/plain": [
              "0.8441321961561871"
            ]
          },
          "metadata": {},
          "execution_count": 9
        }
      ],
      "source": [
        "stats.binom.pmf(14,n,p)+stats.binom.pmf(15,n,p)+stats.binom.pmf(16,n,p)+stats.binom.pmf(17,n,p)+stats.binom.pmf(18,n,p)"
      ]
    },
    {
      "cell_type": "markdown",
      "metadata": {
        "id": "ZyDxgql0MtEi"
      },
      "source": [
        "d. at most 16 recover?"
      ]
    },
    {
      "cell_type": "markdown",
      "metadata": {
        "id": "RIW9p6kYMtEi"
      },
      "source": [
        "this is P(X≤16)=1−P(X>16)=P(17)+P(18)+P(19)+P(20)"
      ]
    },
    {
      "cell_type": "code",
      "execution_count": 10,
      "metadata": {
        "id": "NDOV9bFWMtEi"
      },
      "outputs": [],
      "source": [
        "x = 16"
      ]
    },
    {
      "cell_type": "code",
      "execution_count": 11,
      "metadata": {
        "id": "3HBICtdTMtEj",
        "colab": {
          "base_uri": "https://localhost:8080/"
        },
        "outputId": "c04cc4da-4c02-4a46-8b3a-9d356e112078"
      },
      "outputs": [
        {
          "output_type": "execute_result",
          "data": {
            "text/plain": [
              "0.5885511380434305"
            ]
          },
          "metadata": {},
          "execution_count": 11
        }
      ],
      "source": [
        "stats.binom.cdf(x,n,p)"
      ]
    },
    {
      "cell_type": "markdown",
      "metadata": {
        "id": "sTicteLrMtEj"
      },
      "source": [
        "e. Construct discrete probability distribution table and draw a graph"
      ]
    },
    {
      "cell_type": "code",
      "execution_count": 12,
      "metadata": {
        "id": "bRwfLV0GMtEj",
        "colab": {
          "base_uri": "https://localhost:8080/"
        },
        "outputId": "c42381e4-2e18-436f-f3b0-df74c483f186"
      },
      "outputs": [
        {
          "output_type": "stream",
          "name": "stdout",
          "text": [
            "0\t1.048576000000001e-14\n",
            "1\t8.388607999999975e-13\n",
            "2\t3.187671040000001e-11\n",
            "3\t7.650410495999974e-10\n",
            "4\t1.3005697843199945e-08\n",
            "5\t1.6647293239295892e-07\n",
            "6\t1.664729323929588e-06\n",
            "7\t1.3317834591436803e-05\n",
            "8\t8.656592484433902e-05\n",
            "9\t0.000461684932503141\n",
            "10\t0.002031413703013826\n",
            "11\t0.007386958920050259\n",
            "12\t0.022160876760150803\n",
            "13\t0.0545498504865252\n",
            "14\t0.10909970097304983\n",
            "15\t0.17455952155687976\n",
            "16\t0.21819940194610007\n",
            "17\t0.2053641430080944\n",
            "18\t0.13690942867206304\n",
            "19\t0.05764607523034236\n",
            "20\t0.011529215046068481\n"
          ]
        }
      ],
      "source": [
        "dist = []\n",
        "for i in range(n+1):\n",
        "  dist.append(stats.binom.pmf(i,n,p))\n",
        "  print(str(i)+\"\\t\"+str(stats.binom.pmf(i,n,p)))"
      ]
    },
    {
      "cell_type": "code",
      "source": [
        "dist"
      ],
      "metadata": {
        "colab": {
          "base_uri": "https://localhost:8080/"
        },
        "id": "shDZES3TUIkP",
        "outputId": "37231a70-5a24-4633-d3db-ec2d7ef7e1a6"
      },
      "execution_count": 15,
      "outputs": [
        {
          "output_type": "execute_result",
          "data": {
            "text/plain": [
              "[1.048576000000001e-14,\n",
              " 8.388607999999975e-13,\n",
              " 3.187671040000001e-11,\n",
              " 7.650410495999974e-10,\n",
              " 1.3005697843199945e-08,\n",
              " 1.6647293239295892e-07,\n",
              " 1.664729323929588e-06,\n",
              " 1.3317834591436803e-05,\n",
              " 8.656592484433902e-05,\n",
              " 0.000461684932503141,\n",
              " 0.002031413703013826,\n",
              " 0.007386958920050259,\n",
              " 0.022160876760150803,\n",
              " 0.0545498504865252,\n",
              " 0.10909970097304983,\n",
              " 0.17455952155687976,\n",
              " 0.21819940194610007,\n",
              " 0.2053641430080944,\n",
              " 0.13690942867206304,\n",
              " 0.05764607523034236,\n",
              " 0.011529215046068481]"
            ]
          },
          "metadata": {},
          "execution_count": 15
        }
      ]
    },
    {
      "cell_type": "code",
      "execution_count": 17,
      "metadata": {
        "id": "AhEmWkPiMtEj",
        "colab": {
          "base_uri": "https://localhost:8080/",
          "height": 265
        },
        "outputId": "eb927300-ba39-4ad6-9e51-7d8630d0773a"
      },
      "outputs": [
        {
          "output_type": "display_data",
          "data": {
            "image/png": "[encoded data removed]",
            "text/plain": [
              "<Figure size 432x288 with 1 Axes>"
            ]
          },
          "metadata": {
            "needs_background": "light"
          }
        }
      ],
      "source": [
        "plt.bar(list(range(n+1)),dist);"
      ]
    },
    {
      "cell_type": "markdown",
      "metadata": {
        "id": "_ixlrNjcMtEj"
      },
      "source": [
        "## Poisson Distribution\n",
        "*Source: Wackerly, D., Mendenhall, W., & Scheaffer, R. L. (2014). Mathematical statistics with applications. Cengage Learning.*"
      ]
    },
    {
      "cell_type": "markdown",
      "metadata": {
        "id": "XHtUQepVMtEk"
      },
      "source": [
        "Suppose that a random system of police patrol is devised so that a patrol officer may visit a given beat location Y = 0, 1, 2, 3, . . . times per half-hour period, with each location being visited an average of once per time period. \n",
        "\n",
        "Assume that Y possesses, approximately, a Poisson probability distribution. \n",
        "\n",
        "Calculate the probability that the patrol officer will miss a given location during a half-hour period. \n",
        "\n",
        "What is the probability that it will be visited once? \n",
        "\n",
        "Twice? \n",
        "\n",
        "At least once?"
      ]
    },
    {
      "cell_type": "code",
      "execution_count": 18,
      "metadata": {
        "id": "5n5vw7rPMtEk"
      },
      "outputs": [],
      "source": [
        "#For this example the time period is a half-hour, and the mean number of visits per half-hour interval is λ = 1. Then\n",
        "\n",
        "mu = 1"
      ]
    },
    {
      "cell_type": "markdown",
      "metadata": {
        "id": "SeJIeWUEMtEk"
      },
      "source": [
        "P(Y = 0) = ?"
      ]
    },
    {
      "cell_type": "code",
      "execution_count": 19,
      "metadata": {
        "id": "47zelxHIMtEk",
        "colab": {
          "base_uri": "https://localhost:8080/"
        },
        "outputId": "483e358c-5143-45a2-c621-42e3ba675d82"
      },
      "outputs": [
        {
          "output_type": "execute_result",
          "data": {
            "text/plain": [
              "0.36787944117144233"
            ]
          },
          "metadata": {},
          "execution_count": 19
        }
      ],
      "source": [
        "stats.poisson.pmf(0, mu)"
      ]
    },
    {
      "cell_type": "markdown",
      "metadata": {
        "id": "kUHfTdxGMtEk"
      },
      "source": [
        "P(Y = 1) = ?"
      ]
    },
    {
      "cell_type": "code",
      "execution_count": 20,
      "metadata": {
        "id": "zUuhT_7SMtEl",
        "colab": {
          "base_uri": "https://localhost:8080/"
        },
        "outputId": "4eebb703-ff02-4418-d27e-b3463032263e"
      },
      "outputs": [
        {
          "output_type": "execute_result",
          "data": {
            "text/plain": [
              "0.36787944117144233"
            ]
          },
          "metadata": {},
          "execution_count": 20
        }
      ],
      "source": [
        "stats.poisson.pmf(1, mu)"
      ]
    },
    {
      "cell_type": "markdown",
      "metadata": {
        "id": "6pz0ICffMtEl"
      },
      "source": [
        "P(Y = 2) = ?"
      ]
    },
    {
      "cell_type": "code",
      "execution_count": 21,
      "metadata": {
        "id": "sQ6uTOfHMtEl",
        "colab": {
          "base_uri": "https://localhost:8080/"
        },
        "outputId": "2f00d1bd-7f34-4d1f-8baf-b336ae834f6c"
      },
      "outputs": [
        {
          "output_type": "execute_result",
          "data": {
            "text/plain": [
              "0.18393972058572114"
            ]
          },
          "metadata": {},
          "execution_count": 21
        }
      ],
      "source": [
        "stats.poisson.pmf(2, mu)"
      ]
    },
    {
      "cell_type": "markdown",
      "metadata": {
        "id": "lNYu3GiHMtEl"
      },
      "source": [
        "P(Y ≥ 1) = ?"
      ]
    },
    {
      "cell_type": "code",
      "execution_count": 22,
      "metadata": {
        "id": "lN1LBCFgMtEm",
        "colab": {
          "base_uri": "https://localhost:8080/"
        },
        "outputId": "9f2c530c-ad72-4594-d79e-74909d32adf5"
      },
      "outputs": [
        {
          "output_type": "execute_result",
          "data": {
            "text/plain": [
              "0.6321205588285577"
            ]
          },
          "metadata": {},
          "execution_count": 22
        }
      ],
      "source": [
        "1-stats.poisson.pmf(0, mu)"
      ]
    },
    {
      "cell_type": "markdown",
      "metadata": {
        "id": "rFlKr4NqMtEm"
      },
      "source": [
        "## Normal Distribution\n",
        "*Source: Wackerly, D., Mendenhall, W., & Scheaffer, R. L. (2014). Mathematical statistics with applications. Cengage Learning.*"
      ]
    },
    {
      "cell_type": "markdown",
      "metadata": {
        "id": "MFF6coCdMtEm"
      },
      "source": [
        "**Exercise 4.74**\n",
        "\n",
        "Scores on an examination are assumed to be normally distributed with mean 78 and variance 36."
      ]
    },
    {
      "cell_type": "markdown",
      "metadata": {
        "id": "ppw77NvFMtEm"
      },
      "source": [
        "a. What is the probability that a person taking the examination scores higher than 72?"
      ]
    },
    {
      "cell_type": "markdown",
      "metadata": {
        "id": "BkSpx4j6MtEn"
      },
      "source": [
        "this is P(X>72)"
      ]
    },
    {
      "cell_type": "code",
      "execution_count": 23,
      "metadata": {
        "id": "ZKGDWKZaMtEn"
      },
      "outputs": [],
      "source": [
        "mu = 78\n",
        "sigma = np.sqrt(36)\n",
        "x = 72"
      ]
    },
    {
      "cell_type": "code",
      "execution_count": 24,
      "metadata": {
        "id": "5xSWlYZ2MtEn",
        "colab": {
          "base_uri": "https://localhost:8080/"
        },
        "outputId": "92521fad-26b2-4e14-b2f4-612b9bcf7d86"
      },
      "outputs": [
        {
          "output_type": "execute_result",
          "data": {
            "text/plain": [
              "0.8413447460685429"
            ]
          },
          "metadata": {},
          "execution_count": 24
        }
      ],
      "source": [
        "1- stats.norm.cdf(x, mu, sigma )"
      ]
    },
    {
      "cell_type": "markdown",
      "metadata": {
        "id": "JE-CDjdoMtEn"
      },
      "source": [
        "b. Suppose that students scoring in the top 10% of this distribution are to receive an A grade.\n",
        "What is the minimum score a student must achieve to earn an A grade?"
      ]
    },
    {
      "cell_type": "code",
      "execution_count": 27,
      "metadata": {
        "id": "OyYw9QNLMtEo"
      },
      "outputs": [],
      "source": [
        "q = 1-0.1"
      ]
    },
    {
      "cell_type": "code",
      "source": [
        "help(stats.norm.ppf)"
      ],
      "metadata": {
        "id": "C3r0sA6L4hdw",
        "colab": {
          "base_uri": "https://localhost:8080/"
        },
        "outputId": "65083ac3-6fa3-4c8c-c7cd-80dc8e4b3f7d"
      },
      "execution_count": 25,
      "outputs": [
        {
          "output_type": "stream",
          "name": "stdout",
          "text": [
            "Help on method ppf in module scipy.stats._distn_infrastructure:\n",
            "\n",
            "ppf(q, *args, **kwds) method of scipy.stats._continuous_distns.norm_gen instance\n",
            "    Percent point function (inverse of `cdf`) at q of the given RV.\n",
            "    \n",
            "    Parameters\n",
            "    ----------\n",
            "    q : array_like\n",
            "        lower tail probability\n",
            "    arg1, arg2, arg3,... : array_like\n",
            "        The shape parameter(s) for the distribution (see docstring of the\n",
            "        instance object for more information)\n",
            "    loc : array_like, optional\n",
            "        location parameter (default=0)\n",
            "    scale : array_like, optional\n",
            "        scale parameter (default=1)\n",
            "    \n",
            "    Returns\n",
            "    -------\n",
            "    x : array_like\n",
            "        quantile corresponding to the lower tail probability q.\n",
            "\n"
          ]
        }
      ]
    },
    {
      "cell_type": "code",
      "execution_count": 28,
      "metadata": {
        "id": "7zcLY75GMtEo",
        "colab": {
          "base_uri": "https://localhost:8080/"
        },
        "outputId": "58aaa4bd-4e8e-4f06-c4a2-92a7d0ffecd1"
      },
      "outputs": [
        {
          "output_type": "execute_result",
          "data": {
            "text/plain": [
              "85.6893093932676"
            ]
          },
          "metadata": {},
          "execution_count": 28
        }
      ],
      "source": [
        "stats.norm.ppf(q, mu, sigma)"
      ]
    },
    {
      "cell_type": "markdown",
      "metadata": {
        "id": "BQJwWhptMtEo"
      },
      "source": [
        "c. What must be the cutoff point for passing the examination if the examiner wants only the\n",
        "top 28.1% of all scores to be passing?"
      ]
    },
    {
      "cell_type": "code",
      "execution_count": 29,
      "metadata": {
        "id": "UC7VBJ7ZMtEp"
      },
      "outputs": [],
      "source": [
        "q = 1 - 0.281"
      ]
    },
    {
      "cell_type": "code",
      "execution_count": 30,
      "metadata": {
        "id": "ar7vijghMtEp",
        "colab": {
          "base_uri": "https://localhost:8080/"
        },
        "outputId": "bb0db02c-7172-47ea-eefb-5f23aeb92b87"
      },
      "outputs": [
        {
          "output_type": "execute_result",
          "data": {
            "text/plain": [
              "81.47924035456623"
            ]
          },
          "metadata": {},
          "execution_count": 30
        }
      ],
      "source": [
        "stats.norm.ppf(q, mu, sigma)"
      ]
    },
    {
      "cell_type": "markdown",
      "metadata": {
        "id": "DRuyeDKYMtEq"
      },
      "source": [
        "## t Distribution\n",
        "*Lane, D. (2006). Online statistics education: a multimedia course of study (http://onlinestatbook.com/). Rice University.*"
      ]
    },
    {
      "cell_type": "markdown",
      "metadata": {
        "id": "4pbCqELgMtEq"
      },
      "source": [
        "For a t distribution with 15 degrees of freedom, 90% of the distribution is within how many standard deviations of the mean?"
      ]
    },
    {
      "cell_type": "code",
      "execution_count": 31,
      "metadata": {
        "id": "q-d_b3EAMtEq"
      },
      "outputs": [],
      "source": [
        "dof = 15\n",
        "q = 0.95"
      ]
    },
    {
      "cell_type": "code",
      "execution_count": 32,
      "metadata": {
        "id": "fR6LDkiAMtEq",
        "colab": {
          "base_uri": "https://localhost:8080/"
        },
        "outputId": "5cc522aa-742a-4bdf-a77c-9cadbd20de01"
      },
      "outputs": [
        {
          "output_type": "execute_result",
          "data": {
            "text/plain": [
              "1.7530503556925547"
            ]
          },
          "metadata": {},
          "execution_count": 32
        }
      ],
      "source": [
        "stats.t.ppf(q,dof)"
      ]
    },
    {
      "cell_type": "code",
      "source": [
        "stats.t.cdf(1.753,dof)"
      ],
      "metadata": {
        "id": "TeVtFwBIYDoY",
        "colab": {
          "base_uri": "https://localhost:8080/"
        },
        "outputId": "e0d8712e-e8fd-4199-d79a-f5d6cf7bdbbc"
      },
      "execution_count": 33,
      "outputs": [
        {
          "output_type": "execute_result",
          "data": {
            "text/plain": [
              "0.9499955516892844"
            ]
          },
          "metadata": {},
          "execution_count": 33
        }
      ]
    },
    {
      "cell_type": "code",
      "execution_count": null,
      "metadata": {
        "id": "Cm1mgLkMMtEr"
      },
      "outputs": [],
      "source": [
        ""
      ]
    }
  ],
  "metadata": {
    "kernelspec": {
      "display_name": "Python 3",
      "language": "python",
      "name": "python3"
    },
    "language_info": {
      "codemirror_mode": {
        "name": "ipython",
        "version": 3
      },
      "file_extension": ".py",
      "mimetype": "text/x-python",
      "name": "python",
      "nbconvert_exporter": "python",
      "pygments_lexer": "ipython3",
      "version": "3.7.11"
    },
    "colab": {
      "name": "Probability Distributions.ipynb",
      "provenance": []
    }
  },
  "nbformat": 4,
  "nbformat_minor": 0
}