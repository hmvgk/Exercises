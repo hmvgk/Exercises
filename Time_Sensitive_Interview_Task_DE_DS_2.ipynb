{
 "cells": [
  {
   "cell_type": "markdown",
   "id": "e4199c1d",
   "metadata": {},
   "source": [
    "# Time-Sensitive Interview Task"
   ]
  },
  {
   "cell_type": "code",
   "execution_count": 42,
   "id": "64e748b4",
   "metadata": {},
   "outputs": [],
   "source": [
    "import numpy as np\n",
    "import pandas as pd\n",
    "from scipy import stats\n",
    "\n",
    "import warnings\n",
    "warnings.filterwarnings(\"ignore\")"
   ]
  },
  {
   "cell_type": "code",
   "execution_count": 43,
   "id": "ae607edb",
   "metadata": {},
   "outputs": [],
   "source": [
    "import seaborn as sns\n",
    "import matplotlib.pyplot as plt\n",
    "from pandas.plotting import register_matplotlib_converters\n",
    "from pylab import rcParams\n",
    "sns.set_style(\"darkgrid\")"
   ]
  },
  {
   "cell_type": "code",
   "execution_count": 44,
   "id": "7b7445cb",
   "metadata": {},
   "outputs": [
    {
     "data": {
      "text/html": [
       "<div>\n",
       "<style scoped>\n",
       "    .dataframe tbody tr th:only-of-type {\n",
       "        vertical-align: middle;\n",
       "    }\n",
       "\n",
       "    .dataframe tbody tr th {\n",
       "        vertical-align: top;\n",
       "    }\n",
       "\n",
       "    .dataframe thead th {\n",
       "        text-align: right;\n",
       "    }\n",
       "</style>\n",
       "<table border=\"1\" class=\"dataframe\">\n",
       "  <thead>\n",
       "    <tr style=\"text-align: right;\">\n",
       "      <th></th>\n",
       "      <th>buyer_id</th>\n",
       "      <th>buyer_country</th>\n",
       "      <th>seller_id</th>\n",
       "      <th>seller_country</th>\n",
       "      <th>product_code</th>\n",
       "      <th>category</th>\n",
       "      <th>brand</th>\n",
       "      <th>currency</th>\n",
       "      <th>price</th>\n",
       "      <th>date</th>\n",
       "    </tr>\n",
       "  </thead>\n",
       "  <tbody>\n",
       "    <tr>\n",
       "      <th>0</th>\n",
       "      <td>qzpjsi9t0o</td>\n",
       "      <td>GB</td>\n",
       "      <td>6oufpaot</td>\n",
       "      <td>GB</td>\n",
       "      <td>ydecnydr6obf</td>\n",
       "      <td>Dresses</td>\n",
       "      <td>NaN</td>\n",
       "      <td>GBP</td>\n",
       "      <td>19.11</td>\n",
       "      <td>2020-08-03</td>\n",
       "    </tr>\n",
       "    <tr>\n",
       "      <th>1</th>\n",
       "      <td>o79pns1qwo</td>\n",
       "      <td>GB</td>\n",
       "      <td>50xki2yg</td>\n",
       "      <td>GB</td>\n",
       "      <td>38chj507o6h2</td>\n",
       "      <td>Outerwear</td>\n",
       "      <td>Adidas Originals</td>\n",
       "      <td>GBP</td>\n",
       "      <td>15.92</td>\n",
       "      <td>2020-08-09</td>\n",
       "    </tr>\n",
       "    <tr>\n",
       "      <th>2</th>\n",
       "      <td>sjgbjdkhqx</td>\n",
       "      <td>GB</td>\n",
       "      <td>50xki2yg</td>\n",
       "      <td>GB</td>\n",
       "      <td>i9ynyxj5tdp8</td>\n",
       "      <td>Tops - Mens</td>\n",
       "      <td>NaN</td>\n",
       "      <td>GBP</td>\n",
       "      <td>6.37</td>\n",
       "      <td>2020-08-07</td>\n",
       "    </tr>\n",
       "    <tr>\n",
       "      <th>3</th>\n",
       "      <td>o79pns1qwo</td>\n",
       "      <td>GB</td>\n",
       "      <td>s0p322hh</td>\n",
       "      <td>GB</td>\n",
       "      <td>t50xe7moye8v</td>\n",
       "      <td>Tops - Mens</td>\n",
       "      <td>Berghaus</td>\n",
       "      <td>GBP</td>\n",
       "      <td>25.27</td>\n",
       "      <td>2020-08-09</td>\n",
       "    </tr>\n",
       "    <tr>\n",
       "      <th>4</th>\n",
       "      <td>o79pns1qwo</td>\n",
       "      <td>GB</td>\n",
       "      <td>dpkx192v</td>\n",
       "      <td>GB</td>\n",
       "      <td>hp4r9bjq68af</td>\n",
       "      <td>Bottoms - Womens</td>\n",
       "      <td>NaN</td>\n",
       "      <td>GBP</td>\n",
       "      <td>8.90</td>\n",
       "      <td>2020-08-09</td>\n",
       "    </tr>\n",
       "  </tbody>\n",
       "</table>\n",
       "</div>"
      ],
      "text/plain": [
       "     buyer_id buyer_country seller_id seller_country  product_code  \\\n",
       "0  qzpjsi9t0o            GB  6oufpaot             GB  ydecnydr6obf   \n",
       "1  o79pns1qwo            GB  50xki2yg             GB  38chj507o6h2   \n",
       "2  sjgbjdkhqx            GB  50xki2yg             GB  i9ynyxj5tdp8   \n",
       "3  o79pns1qwo            GB  s0p322hh             GB  t50xe7moye8v   \n",
       "4  o79pns1qwo            GB  dpkx192v             GB  hp4r9bjq68af   \n",
       "\n",
       "           category             brand currency  price        date  \n",
       "0           Dresses               NaN      GBP  19.11  2020-08-03  \n",
       "1         Outerwear  Adidas Originals      GBP  15.92  2020-08-09  \n",
       "2       Tops - Mens               NaN      GBP   6.37  2020-08-07  \n",
       "3       Tops - Mens          Berghaus      GBP  25.27  2020-08-09  \n",
       "4  Bottoms - Womens               NaN      GBP   8.90  2020-08-09  "
      ]
     },
     "execution_count": 44,
     "metadata": {},
     "output_type": "execute_result"
    }
   ],
   "source": [
    "df_sales = pd.read_csv(\"sales_082020.csv\")\n",
    "df_sales.head()"
   ]
  },
  {
   "cell_type": "code",
   "execution_count": 45,
   "id": "b2bb9429",
   "metadata": {},
   "outputs": [
    {
     "name": "stdout",
     "output_type": "stream",
     "text": [
      "<class 'pandas.core.frame.DataFrame'>\n",
      "RangeIndex: 237671 entries, 0 to 237670\n",
      "Data columns (total 10 columns):\n",
      " #   Column          Non-Null Count   Dtype  \n",
      "---  ------          --------------   -----  \n",
      " 0   buyer_id        237671 non-null  object \n",
      " 1   buyer_country   237671 non-null  object \n",
      " 2   seller_id       237671 non-null  object \n",
      " 3   seller_country  237671 non-null  object \n",
      " 4   product_code    237671 non-null  object \n",
      " 5   category        237655 non-null  object \n",
      " 6   brand           119330 non-null  object \n",
      " 7   currency        237671 non-null  object \n",
      " 8   price           237671 non-null  float64\n",
      " 9   date            237671 non-null  object \n",
      "dtypes: float64(1), object(9)\n",
      "memory usage: 18.1+ MB\n"
     ]
    }
   ],
   "source": [
    "df_sales.info()"
   ]
  },
  {
   "cell_type": "code",
   "execution_count": 46,
   "id": "52071995",
   "metadata": {},
   "outputs": [
    {
     "data": {
      "text/html": [
       "<div>\n",
       "<style scoped>\n",
       "    .dataframe tbody tr th:only-of-type {\n",
       "        vertical-align: middle;\n",
       "    }\n",
       "\n",
       "    .dataframe tbody tr th {\n",
       "        vertical-align: top;\n",
       "    }\n",
       "\n",
       "    .dataframe thead th {\n",
       "        text-align: right;\n",
       "    }\n",
       "</style>\n",
       "<table border=\"1\" class=\"dataframe\">\n",
       "  <thead>\n",
       "    <tr style=\"text-align: right;\">\n",
       "      <th></th>\n",
       "      <th>currency</th>\n",
       "      <th>date</th>\n",
       "      <th>rate</th>\n",
       "    </tr>\n",
       "  </thead>\n",
       "  <tbody>\n",
       "    <tr>\n",
       "      <th>0</th>\n",
       "      <td>EUR</td>\n",
       "      <td>8/1/2020</td>\n",
       "      <td>1.0</td>\n",
       "    </tr>\n",
       "    <tr>\n",
       "      <th>1</th>\n",
       "      <td>EUR</td>\n",
       "      <td>8/2/2020</td>\n",
       "      <td>1.0</td>\n",
       "    </tr>\n",
       "    <tr>\n",
       "      <th>2</th>\n",
       "      <td>EUR</td>\n",
       "      <td>8/3/2020</td>\n",
       "      <td>1.0</td>\n",
       "    </tr>\n",
       "    <tr>\n",
       "      <th>3</th>\n",
       "      <td>EUR</td>\n",
       "      <td>8/4/2020</td>\n",
       "      <td>1.0</td>\n",
       "    </tr>\n",
       "    <tr>\n",
       "      <th>4</th>\n",
       "      <td>EUR</td>\n",
       "      <td>8/5/2020</td>\n",
       "      <td>1.0</td>\n",
       "    </tr>\n",
       "  </tbody>\n",
       "</table>\n",
       "</div>"
      ],
      "text/plain": [
       "  currency      date  rate\n",
       "0      EUR  8/1/2020   1.0\n",
       "1      EUR  8/2/2020   1.0\n",
       "2      EUR  8/3/2020   1.0\n",
       "3      EUR  8/4/2020   1.0\n",
       "4      EUR  8/5/2020   1.0"
      ]
     },
     "execution_count": 46,
     "metadata": {},
     "output_type": "execute_result"
    }
   ],
   "source": [
    "df_cur = pd.read_csv(\"currency_rates_082020_EUR.csv\")\n",
    "df_cur.head()"
   ]
  },
  {
   "cell_type": "code",
   "execution_count": 47,
   "id": "ccc97a63",
   "metadata": {},
   "outputs": [
    {
     "name": "stdout",
     "output_type": "stream",
     "text": [
      "<class 'pandas.core.frame.DataFrame'>\n",
      "RangeIndex: 220 entries, 0 to 219\n",
      "Data columns (total 3 columns):\n",
      " #   Column    Non-Null Count  Dtype  \n",
      "---  ------    --------------  -----  \n",
      " 0   currency  220 non-null    object \n",
      " 1   date      220 non-null    object \n",
      " 2   rate      220 non-null    float64\n",
      "dtypes: float64(1), object(2)\n",
      "memory usage: 5.3+ KB\n"
     ]
    }
   ],
   "source": [
    "df_cur.info()"
   ]
  },
  {
   "cell_type": "code",
   "execution_count": null,
   "id": "09161a5d",
   "metadata": {},
   "outputs": [],
   "source": []
  },
  {
   "cell_type": "code",
   "execution_count": 48,
   "id": "941e162f",
   "metadata": {},
   "outputs": [],
   "source": [
    "df_sales1 = df_sales.copy()"
   ]
  },
  {
   "cell_type": "code",
   "execution_count": 49,
   "id": "133fef47",
   "metadata": {},
   "outputs": [],
   "source": [
    "df_sales1.date = pd.to_datetime(df_sales1.date)"
   ]
  },
  {
   "cell_type": "code",
   "execution_count": 50,
   "id": "4a0d41f7",
   "metadata": {},
   "outputs": [],
   "source": [
    "df_cur1 = df_cur.copy()"
   ]
  },
  {
   "cell_type": "code",
   "execution_count": 51,
   "id": "fa815a85",
   "metadata": {},
   "outputs": [],
   "source": [
    "df_cur1.date = pd.to_datetime(df_cur1.date)"
   ]
  },
  {
   "cell_type": "code",
   "execution_count": 52,
   "id": "ce64a784",
   "metadata": {},
   "outputs": [
    {
     "data": {
      "text/html": [
       "<div>\n",
       "<style scoped>\n",
       "    .dataframe tbody tr th:only-of-type {\n",
       "        vertical-align: middle;\n",
       "    }\n",
       "\n",
       "    .dataframe tbody tr th {\n",
       "        vertical-align: top;\n",
       "    }\n",
       "\n",
       "    .dataframe thead th {\n",
       "        text-align: right;\n",
       "    }\n",
       "</style>\n",
       "<table border=\"1\" class=\"dataframe\">\n",
       "  <thead>\n",
       "    <tr style=\"text-align: right;\">\n",
       "      <th></th>\n",
       "      <th>buyer_id</th>\n",
       "      <th>buyer_country</th>\n",
       "      <th>seller_id</th>\n",
       "      <th>seller_country</th>\n",
       "      <th>product_code</th>\n",
       "      <th>category</th>\n",
       "      <th>brand</th>\n",
       "      <th>currency</th>\n",
       "      <th>price</th>\n",
       "      <th>date</th>\n",
       "      <th>rate</th>\n",
       "    </tr>\n",
       "  </thead>\n",
       "  <tbody>\n",
       "    <tr>\n",
       "      <th>0</th>\n",
       "      <td>qzpjsi9t0o</td>\n",
       "      <td>GB</td>\n",
       "      <td>6oufpaot</td>\n",
       "      <td>GB</td>\n",
       "      <td>ydecnydr6obf</td>\n",
       "      <td>Dresses</td>\n",
       "      <td>NaN</td>\n",
       "      <td>GBP</td>\n",
       "      <td>19.11</td>\n",
       "      <td>2020-08-03</td>\n",
       "      <td>0.89935</td>\n",
       "    </tr>\n",
       "    <tr>\n",
       "      <th>1</th>\n",
       "      <td>rd209r8c7c</td>\n",
       "      <td>GB</td>\n",
       "      <td>9p2ansc9</td>\n",
       "      <td>GB</td>\n",
       "      <td>wpxxf59cq7pc</td>\n",
       "      <td>Outerwear - Mens</td>\n",
       "      <td>Adidas Originals</td>\n",
       "      <td>GBP</td>\n",
       "      <td>24.91</td>\n",
       "      <td>2020-08-03</td>\n",
       "      <td>0.89935</td>\n",
       "    </tr>\n",
       "    <tr>\n",
       "      <th>2</th>\n",
       "      <td>pqbcrl8azx</td>\n",
       "      <td>GB</td>\n",
       "      <td>r9zmzem8</td>\n",
       "      <td>GB</td>\n",
       "      <td>ua9mmn86wsqy</td>\n",
       "      <td>Tops - Womens</td>\n",
       "      <td>NaN</td>\n",
       "      <td>GBP</td>\n",
       "      <td>19.31</td>\n",
       "      <td>2020-08-03</td>\n",
       "      <td>0.89935</td>\n",
       "    </tr>\n",
       "    <tr>\n",
       "      <th>3</th>\n",
       "      <td>j5en1rwmxp</td>\n",
       "      <td>GB</td>\n",
       "      <td>3o2nz88r</td>\n",
       "      <td>GB</td>\n",
       "      <td>tduo2uy8iszl</td>\n",
       "      <td>Bottoms - Womens</td>\n",
       "      <td>Urban Outfitters</td>\n",
       "      <td>GBP</td>\n",
       "      <td>16.98</td>\n",
       "      <td>2020-08-03</td>\n",
       "      <td>0.89935</td>\n",
       "    </tr>\n",
       "    <tr>\n",
       "      <th>4</th>\n",
       "      <td>kjdezxeh1l</td>\n",
       "      <td>GB</td>\n",
       "      <td>7g56ublf</td>\n",
       "      <td>GB</td>\n",
       "      <td>39o00tcu89zq</td>\n",
       "      <td>Other</td>\n",
       "      <td>NaN</td>\n",
       "      <td>GBP</td>\n",
       "      <td>2.85</td>\n",
       "      <td>2020-08-03</td>\n",
       "      <td>0.89935</td>\n",
       "    </tr>\n",
       "  </tbody>\n",
       "</table>\n",
       "</div>"
      ],
      "text/plain": [
       "     buyer_id buyer_country seller_id seller_country  product_code  \\\n",
       "0  qzpjsi9t0o            GB  6oufpaot             GB  ydecnydr6obf   \n",
       "1  rd209r8c7c            GB  9p2ansc9             GB  wpxxf59cq7pc   \n",
       "2  pqbcrl8azx            GB  r9zmzem8             GB  ua9mmn86wsqy   \n",
       "3  j5en1rwmxp            GB  3o2nz88r             GB  tduo2uy8iszl   \n",
       "4  kjdezxeh1l            GB  7g56ublf             GB  39o00tcu89zq   \n",
       "\n",
       "           category             brand currency  price       date     rate  \n",
       "0           Dresses               NaN      GBP  19.11 2020-08-03  0.89935  \n",
       "1  Outerwear - Mens  Adidas Originals      GBP  24.91 2020-08-03  0.89935  \n",
       "2     Tops - Womens               NaN      GBP  19.31 2020-08-03  0.89935  \n",
       "3  Bottoms - Womens  Urban Outfitters      GBP  16.98 2020-08-03  0.89935  \n",
       "4             Other               NaN      GBP   2.85 2020-08-03  0.89935  "
      ]
     },
     "execution_count": 52,
     "metadata": {},
     "output_type": "execute_result"
    }
   ],
   "source": [
    "df_new = pd.merge(df_sales1, df_cur1, how = 'inner', on = [\"currency\",\"date\"])\n",
    "df_new.head()"
   ]
  },
  {
   "cell_type": "code",
   "execution_count": null,
   "id": "e3bc693b",
   "metadata": {},
   "outputs": [],
   "source": []
  },
  {
   "cell_type": "code",
   "execution_count": 53,
   "id": "685d7422",
   "metadata": {},
   "outputs": [
    {
     "data": {
      "text/html": [
       "<div>\n",
       "<style scoped>\n",
       "    .dataframe tbody tr th:only-of-type {\n",
       "        vertical-align: middle;\n",
       "    }\n",
       "\n",
       "    .dataframe tbody tr th {\n",
       "        vertical-align: top;\n",
       "    }\n",
       "\n",
       "    .dataframe thead th {\n",
       "        text-align: right;\n",
       "    }\n",
       "</style>\n",
       "<table border=\"1\" class=\"dataframe\">\n",
       "  <thead>\n",
       "    <tr style=\"text-align: right;\">\n",
       "      <th></th>\n",
       "      <th>buyer_id</th>\n",
       "      <th>buyer_country</th>\n",
       "      <th>seller_id</th>\n",
       "      <th>seller_country</th>\n",
       "      <th>product_code</th>\n",
       "      <th>category</th>\n",
       "      <th>brand</th>\n",
       "      <th>currency</th>\n",
       "      <th>price</th>\n",
       "      <th>date</th>\n",
       "      <th>rate</th>\n",
       "      <th>total</th>\n",
       "    </tr>\n",
       "  </thead>\n",
       "  <tbody>\n",
       "    <tr>\n",
       "      <th>0</th>\n",
       "      <td>qzpjsi9t0o</td>\n",
       "      <td>GB</td>\n",
       "      <td>6oufpaot</td>\n",
       "      <td>GB</td>\n",
       "      <td>ydecnydr6obf</td>\n",
       "      <td>Dresses</td>\n",
       "      <td>NaN</td>\n",
       "      <td>GBP</td>\n",
       "      <td>19.11</td>\n",
       "      <td>2020-08-03</td>\n",
       "      <td>0.89935</td>\n",
       "      <td>21.248680</td>\n",
       "    </tr>\n",
       "    <tr>\n",
       "      <th>1</th>\n",
       "      <td>rd209r8c7c</td>\n",
       "      <td>GB</td>\n",
       "      <td>9p2ansc9</td>\n",
       "      <td>GB</td>\n",
       "      <td>wpxxf59cq7pc</td>\n",
       "      <td>Outerwear - Mens</td>\n",
       "      <td>Adidas Originals</td>\n",
       "      <td>GBP</td>\n",
       "      <td>24.91</td>\n",
       "      <td>2020-08-03</td>\n",
       "      <td>0.89935</td>\n",
       "      <td>27.697782</td>\n",
       "    </tr>\n",
       "    <tr>\n",
       "      <th>2</th>\n",
       "      <td>pqbcrl8azx</td>\n",
       "      <td>GB</td>\n",
       "      <td>r9zmzem8</td>\n",
       "      <td>GB</td>\n",
       "      <td>ua9mmn86wsqy</td>\n",
       "      <td>Tops - Womens</td>\n",
       "      <td>NaN</td>\n",
       "      <td>GBP</td>\n",
       "      <td>19.31</td>\n",
       "      <td>2020-08-03</td>\n",
       "      <td>0.89935</td>\n",
       "      <td>21.471062</td>\n",
       "    </tr>\n",
       "    <tr>\n",
       "      <th>3</th>\n",
       "      <td>j5en1rwmxp</td>\n",
       "      <td>GB</td>\n",
       "      <td>3o2nz88r</td>\n",
       "      <td>GB</td>\n",
       "      <td>tduo2uy8iszl</td>\n",
       "      <td>Bottoms - Womens</td>\n",
       "      <td>Urban Outfitters</td>\n",
       "      <td>GBP</td>\n",
       "      <td>16.98</td>\n",
       "      <td>2020-08-03</td>\n",
       "      <td>0.89935</td>\n",
       "      <td>18.880302</td>\n",
       "    </tr>\n",
       "    <tr>\n",
       "      <th>4</th>\n",
       "      <td>kjdezxeh1l</td>\n",
       "      <td>GB</td>\n",
       "      <td>7g56ublf</td>\n",
       "      <td>GB</td>\n",
       "      <td>39o00tcu89zq</td>\n",
       "      <td>Other</td>\n",
       "      <td>NaN</td>\n",
       "      <td>GBP</td>\n",
       "      <td>2.85</td>\n",
       "      <td>2020-08-03</td>\n",
       "      <td>0.89935</td>\n",
       "      <td>3.168955</td>\n",
       "    </tr>\n",
       "  </tbody>\n",
       "</table>\n",
       "</div>"
      ],
      "text/plain": [
       "     buyer_id buyer_country seller_id seller_country  product_code  \\\n",
       "0  qzpjsi9t0o            GB  6oufpaot             GB  ydecnydr6obf   \n",
       "1  rd209r8c7c            GB  9p2ansc9             GB  wpxxf59cq7pc   \n",
       "2  pqbcrl8azx            GB  r9zmzem8             GB  ua9mmn86wsqy   \n",
       "3  j5en1rwmxp            GB  3o2nz88r             GB  tduo2uy8iszl   \n",
       "4  kjdezxeh1l            GB  7g56ublf             GB  39o00tcu89zq   \n",
       "\n",
       "           category             brand currency  price       date     rate  \\\n",
       "0           Dresses               NaN      GBP  19.11 2020-08-03  0.89935   \n",
       "1  Outerwear - Mens  Adidas Originals      GBP  24.91 2020-08-03  0.89935   \n",
       "2     Tops - Womens               NaN      GBP  19.31 2020-08-03  0.89935   \n",
       "3  Bottoms - Womens  Urban Outfitters      GBP  16.98 2020-08-03  0.89935   \n",
       "4             Other               NaN      GBP   2.85 2020-08-03  0.89935   \n",
       "\n",
       "       total  \n",
       "0  21.248680  \n",
       "1  27.697782  \n",
       "2  21.471062  \n",
       "3  18.880302  \n",
       "4   3.168955  "
      ]
     },
     "execution_count": 53,
     "metadata": {},
     "output_type": "execute_result"
    }
   ],
   "source": [
    "df_new['total'] = df_new.price / df_new[\"rate\"]\n",
    "df_new.head()"
   ]
  },
  {
   "cell_type": "code",
   "execution_count": null,
   "id": "33220f98",
   "metadata": {},
   "outputs": [],
   "source": []
  },
  {
   "cell_type": "markdown",
   "id": "49ce260d",
   "metadata": {},
   "source": [
    "#### 1. Which country made the highest percentage of international purchases?"
   ]
  },
  {
   "cell_type": "code",
   "execution_count": 165,
   "id": "7acaa178",
   "metadata": {},
   "outputs": [
    {
     "data": {
      "text/html": [
       "<div>\n",
       "<style scoped>\n",
       "    .dataframe tbody tr th:only-of-type {\n",
       "        vertical-align: middle;\n",
       "    }\n",
       "\n",
       "    .dataframe tbody tr th {\n",
       "        vertical-align: top;\n",
       "    }\n",
       "\n",
       "    .dataframe thead th {\n",
       "        text-align: right;\n",
       "    }\n",
       "</style>\n",
       "<table border=\"1\" class=\"dataframe\">\n",
       "  <thead>\n",
       "    <tr style=\"text-align: right;\">\n",
       "      <th></th>\n",
       "      <th>buyer_id</th>\n",
       "      <th>buyer_country</th>\n",
       "      <th>seller_id</th>\n",
       "      <th>seller_country</th>\n",
       "      <th>product_code</th>\n",
       "      <th>category</th>\n",
       "      <th>brand</th>\n",
       "      <th>currency</th>\n",
       "      <th>price</th>\n",
       "      <th>date</th>\n",
       "      <th>rate</th>\n",
       "      <th>total</th>\n",
       "    </tr>\n",
       "  </thead>\n",
       "  <tbody>\n",
       "    <tr>\n",
       "      <th>0</th>\n",
       "      <td>qzpjsi9t0o</td>\n",
       "      <td>GB</td>\n",
       "      <td>6oufpaot</td>\n",
       "      <td>GB</td>\n",
       "      <td>ydecnydr6obf</td>\n",
       "      <td>Dresses</td>\n",
       "      <td>NaN</td>\n",
       "      <td>GBP</td>\n",
       "      <td>19.11</td>\n",
       "      <td>2020-08-03</td>\n",
       "      <td>0.89935</td>\n",
       "      <td>21.24868</td>\n",
       "    </tr>\n",
       "  </tbody>\n",
       "</table>\n",
       "</div>"
      ],
      "text/plain": [
       "     buyer_id buyer_country seller_id seller_country  product_code category  \\\n",
       "0  qzpjsi9t0o            GB  6oufpaot             GB  ydecnydr6obf  Dresses   \n",
       "\n",
       "  brand currency  price       date     rate     total  \n",
       "0   NaN      GBP  19.11 2020-08-03  0.89935  21.24868  "
      ]
     },
     "execution_count": 165,
     "metadata": {},
     "output_type": "execute_result"
    }
   ],
   "source": [
    "df_new.head(1)"
   ]
  },
  {
   "cell_type": "code",
   "execution_count": 163,
   "id": "7602f251",
   "metadata": {},
   "outputs": [
    {
     "data": {
      "text/plain": [
       "buyer_country\n",
       "GB    55.3\n",
       "Name: total, dtype: float64"
      ]
     },
     "execution_count": 163,
     "metadata": {},
     "output_type": "execute_result"
    }
   ],
   "source": [
    "((df_new.groupby(\"buyer_country\")[\"total\"].sum()/df_new[\"total\"].sum()) * 100).round(2).sort_values(ascending=False).head(1)"
   ]
  },
  {
   "cell_type": "code",
   "execution_count": null,
   "id": "8d133c76",
   "metadata": {},
   "outputs": [],
   "source": []
  },
  {
   "cell_type": "code",
   "execution_count": 162,
   "id": "2ba857f3",
   "metadata": {},
   "outputs": [
    {
     "data": {
      "text/plain": [
       "buyer_country\n",
       "RoW    29.32\n",
       "Name: total, dtype: float64"
      ]
     },
     "execution_count": 162,
     "metadata": {},
     "output_type": "execute_result"
    }
   ],
   "source": [
    "((df_int.groupby(\"buyer_country\")[\"total\"].sum()/df_int[\"total\"].sum()) * 100).round(2).sort_values(ascending=False).head(1)"
   ]
  },
  {
   "cell_type": "code",
   "execution_count": null,
   "id": "534d58b7",
   "metadata": {},
   "outputs": [],
   "source": []
  },
  {
   "cell_type": "markdown",
   "id": "f286432e",
   "metadata": {},
   "source": [
    "#### 2. Which day has the highest value of purchases?"
   ]
  },
  {
   "cell_type": "code",
   "execution_count": 164,
   "id": "26b6dcae",
   "metadata": {},
   "outputs": [
    {
     "data": {
      "text/html": [
       "<div>\n",
       "<style scoped>\n",
       "    .dataframe tbody tr th:only-of-type {\n",
       "        vertical-align: middle;\n",
       "    }\n",
       "\n",
       "    .dataframe tbody tr th {\n",
       "        vertical-align: top;\n",
       "    }\n",
       "\n",
       "    .dataframe thead th {\n",
       "        text-align: right;\n",
       "    }\n",
       "</style>\n",
       "<table border=\"1\" class=\"dataframe\">\n",
       "  <thead>\n",
       "    <tr style=\"text-align: right;\">\n",
       "      <th></th>\n",
       "      <th>buyer_id</th>\n",
       "      <th>buyer_country</th>\n",
       "      <th>seller_id</th>\n",
       "      <th>seller_country</th>\n",
       "      <th>product_code</th>\n",
       "      <th>category</th>\n",
       "      <th>brand</th>\n",
       "      <th>currency</th>\n",
       "      <th>price</th>\n",
       "      <th>date</th>\n",
       "      <th>rate</th>\n",
       "      <th>total</th>\n",
       "    </tr>\n",
       "  </thead>\n",
       "  <tbody>\n",
       "    <tr>\n",
       "      <th>0</th>\n",
       "      <td>qzpjsi9t0o</td>\n",
       "      <td>GB</td>\n",
       "      <td>6oufpaot</td>\n",
       "      <td>GB</td>\n",
       "      <td>ydecnydr6obf</td>\n",
       "      <td>Dresses</td>\n",
       "      <td>NaN</td>\n",
       "      <td>GBP</td>\n",
       "      <td>19.11</td>\n",
       "      <td>2020-08-03</td>\n",
       "      <td>0.89935</td>\n",
       "      <td>21.24868</td>\n",
       "    </tr>\n",
       "  </tbody>\n",
       "</table>\n",
       "</div>"
      ],
      "text/plain": [
       "     buyer_id buyer_country seller_id seller_country  product_code category  \\\n",
       "0  qzpjsi9t0o            GB  6oufpaot             GB  ydecnydr6obf  Dresses   \n",
       "\n",
       "  brand currency  price       date     rate     total  \n",
       "0   NaN      GBP  19.11 2020-08-03  0.89935  21.24868  "
      ]
     },
     "execution_count": 164,
     "metadata": {},
     "output_type": "execute_result"
    }
   ],
   "source": [
    "df_new.head(1)"
   ]
  },
  {
   "cell_type": "code",
   "execution_count": 94,
   "id": "948b751b",
   "metadata": {},
   "outputs": [
    {
     "data": {
      "text/plain": [
       "Timestamp('2020-08-03 00:00:00')"
      ]
     },
     "execution_count": 94,
     "metadata": {},
     "output_type": "execute_result"
    }
   ],
   "source": [
    "df_new.loc[df_new[\"total\"].idxmax()]['date']"
   ]
  },
  {
   "cell_type": "code",
   "execution_count": null,
   "id": "48b66e3e",
   "metadata": {},
   "outputs": [],
   "source": []
  },
  {
   "cell_type": "code",
   "execution_count": 114,
   "id": "14ea4bc7",
   "metadata": {},
   "outputs": [
    {
     "data": {
      "text/plain": [
       "22022   2020-08-03\n",
       "Name: date, dtype: datetime64[ns]"
      ]
     },
     "execution_count": 114,
     "metadata": {},
     "output_type": "execute_result"
    }
   ],
   "source": [
    "df_new.sort_values(by='total', ascending=False)[:1]['date']"
   ]
  },
  {
   "cell_type": "code",
   "execution_count": null,
   "id": "79fd7eb6",
   "metadata": {},
   "outputs": [],
   "source": []
  },
  {
   "cell_type": "markdown",
   "id": "f4945f9c",
   "metadata": {},
   "source": [
    "#### 3. Which category has 2,324 transactions on 7 August?"
   ]
  },
  {
   "cell_type": "code",
   "execution_count": 202,
   "id": "9d6e6cc0",
   "metadata": {},
   "outputs": [
    {
     "data": {
      "text/plain": [
       "9    Jewellery\n",
       "Name: category, dtype: object"
      ]
     },
     "execution_count": 202,
     "metadata": {},
     "output_type": "execute_result"
    }
   ],
   "source": [
    "df_7Aug = df_new[(df_new['date']=='2020-08-07')].groupby('category').count()\n",
    "df_7Aug.reset_index(inplace=True)\n",
    "df_7Aug[df_7Aug['buyer_id']==2324]['category']"
   ]
  },
  {
   "cell_type": "code",
   "execution_count": null,
   "id": "b33f7098",
   "metadata": {},
   "outputs": [],
   "source": []
  },
  {
   "cell_type": "markdown",
   "id": "d7d16181",
   "metadata": {},
   "source": [
    "#### 4. What percentage of global sales value on 4 August came from US sellers?"
   ]
  },
  {
   "cell_type": "code",
   "execution_count": 224,
   "id": "bc03822a",
   "metadata": {},
   "outputs": [
    {
     "data": {
      "text/plain": [
       "seller_country\n",
       "US    33.271659\n",
       "Name: total, dtype: float64"
      ]
     },
     "execution_count": 224,
     "metadata": {},
     "output_type": "execute_result"
    }
   ],
   "source": [
    "((df_new[(df_new['date']=='2020-08-04')].groupby('seller_country')['total'].sum()) / (df_new[(df_new['date']=='2020-08-04')]['total'].sum()) * 100).tail(1)"
   ]
  },
  {
   "cell_type": "code",
   "execution_count": null,
   "id": "cdf52568",
   "metadata": {},
   "outputs": [],
   "source": []
  },
  {
   "cell_type": "code",
   "execution_count": 216,
   "id": "8f46510b",
   "metadata": {},
   "outputs": [
    {
     "data": {
      "text/plain": [
       "33.27"
      ]
     },
     "execution_count": 216,
     "metadata": {},
     "output_type": "execute_result"
    }
   ],
   "source": [
    "((df_new[(df_new['date']=='2020-08-04') & (df_new['seller_country']=='US')]['total'].sum() / df_new[(df_new['date']=='2020-08-04')]['total'].sum()) * 100).round(2)"
   ]
  },
  {
   "cell_type": "code",
   "execution_count": 215,
   "id": "b9075557",
   "metadata": {},
   "outputs": [
    {
     "data": {
      "text/plain": [
       "seller_country\n",
       "AU      26223.82\n",
       "CA       6960.54\n",
       "DE       1486.31\n",
       "FR        510.88\n",
       "GB     544079.50\n",
       "IE      10062.48\n",
       "IT      27507.79\n",
       "RoW      7164.97\n",
       "US     311133.04\n",
       "Name: total, dtype: float64"
      ]
     },
     "execution_count": 215,
     "metadata": {},
     "output_type": "execute_result"
    }
   ],
   "source": [
    "df_4Aug = df_new[(df_new['date']=='2020-08-04')].groupby('seller_country')['total'].sum().round(2)\n",
    "df_4Aug"
   ]
  },
  {
   "cell_type": "code",
   "execution_count": null,
   "id": "4950a7e0",
   "metadata": {},
   "outputs": [],
   "source": []
  },
  {
   "cell_type": "markdown",
   "id": "7d03d434",
   "metadata": {},
   "source": [
    "#### 5. How many sellers in US has more than 75 sales?"
   ]
  },
  {
   "cell_type": "code",
   "execution_count": 250,
   "id": "93819fb5",
   "metadata": {},
   "outputs": [
    {
     "data": {
      "text/html": [
       "<div>\n",
       "<style scoped>\n",
       "    .dataframe tbody tr th:only-of-type {\n",
       "        vertical-align: middle;\n",
       "    }\n",
       "\n",
       "    .dataframe tbody tr th {\n",
       "        vertical-align: top;\n",
       "    }\n",
       "\n",
       "    .dataframe thead th {\n",
       "        text-align: right;\n",
       "    }\n",
       "</style>\n",
       "<table border=\"1\" class=\"dataframe\">\n",
       "  <thead>\n",
       "    <tr style=\"text-align: right;\">\n",
       "      <th></th>\n",
       "      <th>seller_id</th>\n",
       "    </tr>\n",
       "  </thead>\n",
       "  <tbody>\n",
       "    <tr>\n",
       "      <th>pzsiehl0</th>\n",
       "      <td>703</td>\n",
       "    </tr>\n",
       "    <tr>\n",
       "      <th>wd3rgi3q</th>\n",
       "      <td>525</td>\n",
       "    </tr>\n",
       "    <tr>\n",
       "      <th>j21w87xy</th>\n",
       "      <td>500</td>\n",
       "    </tr>\n",
       "    <tr>\n",
       "      <th>ucp2k0nu</th>\n",
       "      <td>218</td>\n",
       "    </tr>\n",
       "    <tr>\n",
       "      <th>r64zesw6</th>\n",
       "      <td>211</td>\n",
       "    </tr>\n",
       "  </tbody>\n",
       "</table>\n",
       "</div>"
      ],
      "text/plain": [
       "          seller_id\n",
       "pzsiehl0        703\n",
       "wd3rgi3q        525\n",
       "j21w87xy        500\n",
       "ucp2k0nu        218\n",
       "r64zesw6        211"
      ]
     },
     "execution_count": 250,
     "metadata": {},
     "output_type": "execute_result"
    }
   ],
   "source": [
    "us_sellers = df_new[(df_new['seller_country']=='US')]['seller_id'].value_counts().to_frame()\n",
    "us_sellers.head()"
   ]
  },
  {
   "cell_type": "code",
   "execution_count": 251,
   "id": "8bf8dac5",
   "metadata": {},
   "outputs": [
    {
     "data": {
      "text/plain": [
       "22"
      ]
     },
     "execution_count": 251,
     "metadata": {},
     "output_type": "execute_result"
    }
   ],
   "source": [
    "len(us_sellers[us_sellers['seller_id'] > 75])"
   ]
  },
  {
   "cell_type": "code",
   "execution_count": null,
   "id": "3586f81f",
   "metadata": {},
   "outputs": [],
   "source": []
  },
  {
   "cell_type": "markdown",
   "id": "c51f7380",
   "metadata": {},
   "source": [
    "#### 6. Which seller in the US sold the most in terms of value?"
   ]
  },
  {
   "cell_type": "code",
   "execution_count": 258,
   "id": "041b5d0f",
   "metadata": {},
   "outputs": [
    {
     "data": {
      "text/plain": [
       "seller_id\n",
       "pzsiehl0    20558.868517\n",
       "Name: total, dtype: float64"
      ]
     },
     "execution_count": 258,
     "metadata": {},
     "output_type": "execute_result"
    }
   ],
   "source": [
    "df_new[(df_new['seller_country']=='US')].groupby('seller_id')['total'].sum().sort_values(ascending=False)[:1]"
   ]
  },
  {
   "cell_type": "code",
   "execution_count": null,
   "id": "63786436",
   "metadata": {},
   "outputs": [],
   "source": []
  },
  {
   "cell_type": "markdown",
   "id": "e49c3d5f",
   "metadata": {},
   "source": [
    "#### 7. Which brand had the largest absolute € difference in average transaction value between domestic and international?"
   ]
  },
  {
   "cell_type": "code",
   "execution_count": 287,
   "id": "94470e8f",
   "metadata": {},
   "outputs": [
    {
     "data": {
      "text/html": [
       "<div>\n",
       "<style scoped>\n",
       "    .dataframe tbody tr th:only-of-type {\n",
       "        vertical-align: middle;\n",
       "    }\n",
       "\n",
       "    .dataframe tbody tr th {\n",
       "        vertical-align: top;\n",
       "    }\n",
       "\n",
       "    .dataframe thead th {\n",
       "        text-align: right;\n",
       "    }\n",
       "</style>\n",
       "<table border=\"1\" class=\"dataframe\">\n",
       "  <thead>\n",
       "    <tr style=\"text-align: right;\">\n",
       "      <th></th>\n",
       "      <th>buyer_id</th>\n",
       "      <th>buyer_country</th>\n",
       "      <th>seller_id</th>\n",
       "      <th>seller_country</th>\n",
       "      <th>product_code</th>\n",
       "      <th>category</th>\n",
       "      <th>brand</th>\n",
       "      <th>currency</th>\n",
       "      <th>price</th>\n",
       "      <th>date</th>\n",
       "      <th>rate</th>\n",
       "      <th>total</th>\n",
       "    </tr>\n",
       "  </thead>\n",
       "  <tbody>\n",
       "    <tr>\n",
       "      <th>42</th>\n",
       "      <td>40d0z14olg</td>\n",
       "      <td>DE</td>\n",
       "      <td>3u54hwb8</td>\n",
       "      <td>GB</td>\n",
       "      <td>4wvahn8jbeyx</td>\n",
       "      <td>Other</td>\n",
       "      <td>NaN</td>\n",
       "      <td>GBP</td>\n",
       "      <td>106.86</td>\n",
       "      <td>2020-08-03</td>\n",
       "      <td>0.89935</td>\n",
       "      <td>118.819147</td>\n",
       "    </tr>\n",
       "    <tr>\n",
       "      <th>46</th>\n",
       "      <td>idsi2rp3zo</td>\n",
       "      <td>RoW</td>\n",
       "      <td>li8btpfy</td>\n",
       "      <td>GB</td>\n",
       "      <td>jl47yw2ccdjk</td>\n",
       "      <td>Jewellery</td>\n",
       "      <td>NaN</td>\n",
       "      <td>GBP</td>\n",
       "      <td>10.41</td>\n",
       "      <td>2020-08-03</td>\n",
       "      <td>0.89935</td>\n",
       "      <td>11.575026</td>\n",
       "    </tr>\n",
       "    <tr>\n",
       "      <th>53</th>\n",
       "      <td>i0jgg0jy9a</td>\n",
       "      <td>IE</td>\n",
       "      <td>u9vc5z3k</td>\n",
       "      <td>GB</td>\n",
       "      <td>yp6t1nbzayca</td>\n",
       "      <td>Bottoms - Womens</td>\n",
       "      <td>NaN</td>\n",
       "      <td>GBP</td>\n",
       "      <td>24.09</td>\n",
       "      <td>2020-08-03</td>\n",
       "      <td>0.89935</td>\n",
       "      <td>26.786012</td>\n",
       "    </tr>\n",
       "    <tr>\n",
       "      <th>65</th>\n",
       "      <td>hb40n38s5g</td>\n",
       "      <td>RoW</td>\n",
       "      <td>y2c4v2ov</td>\n",
       "      <td>GB</td>\n",
       "      <td>6li2rxy49gil</td>\n",
       "      <td>Jewellery</td>\n",
       "      <td>NaN</td>\n",
       "      <td>GBP</td>\n",
       "      <td>10.16</td>\n",
       "      <td>2020-08-03</td>\n",
       "      <td>0.89935</td>\n",
       "      <td>11.297048</td>\n",
       "    </tr>\n",
       "    <tr>\n",
       "      <th>66</th>\n",
       "      <td>hb40n38s5g</td>\n",
       "      <td>RoW</td>\n",
       "      <td>y2c4v2ov</td>\n",
       "      <td>GB</td>\n",
       "      <td>zl090gp1fdzf</td>\n",
       "      <td>Jewellery</td>\n",
       "      <td>NaN</td>\n",
       "      <td>GBP</td>\n",
       "      <td>10.68</td>\n",
       "      <td>2020-08-03</td>\n",
       "      <td>0.89935</td>\n",
       "      <td>11.875243</td>\n",
       "    </tr>\n",
       "  </tbody>\n",
       "</table>\n",
       "</div>"
      ],
      "text/plain": [
       "      buyer_id buyer_country seller_id seller_country  product_code  \\\n",
       "42  40d0z14olg            DE  3u54hwb8             GB  4wvahn8jbeyx   \n",
       "46  idsi2rp3zo           RoW  li8btpfy             GB  jl47yw2ccdjk   \n",
       "53  i0jgg0jy9a            IE  u9vc5z3k             GB  yp6t1nbzayca   \n",
       "65  hb40n38s5g           RoW  y2c4v2ov             GB  6li2rxy49gil   \n",
       "66  hb40n38s5g           RoW  y2c4v2ov             GB  zl090gp1fdzf   \n",
       "\n",
       "            category brand currency   price       date     rate       total  \n",
       "42             Other   NaN      GBP  106.86 2020-08-03  0.89935  118.819147  \n",
       "46         Jewellery   NaN      GBP   10.41 2020-08-03  0.89935   11.575026  \n",
       "53  Bottoms - Womens   NaN      GBP   24.09 2020-08-03  0.89935   26.786012  \n",
       "65         Jewellery   NaN      GBP   10.16 2020-08-03  0.89935   11.297048  \n",
       "66         Jewellery   NaN      GBP   10.68 2020-08-03  0.89935   11.875243  "
      ]
     },
     "execution_count": 287,
     "metadata": {},
     "output_type": "execute_result"
    }
   ],
   "source": [
    "df_int = df_new[df_new[\"buyer_country\"] != df_new[\"seller_country\"]]\n",
    "df_int.head()"
   ]
  },
  {
   "cell_type": "code",
   "execution_count": 280,
   "id": "3020a92a",
   "metadata": {},
   "outputs": [
    {
     "data": {
      "text/plain": [
       "8457"
      ]
     },
     "execution_count": 280,
     "metadata": {},
     "output_type": "execute_result"
    }
   ],
   "source": [
    "len(df_int)"
   ]
  },
  {
   "cell_type": "code",
   "execution_count": 285,
   "id": "03b3effe",
   "metadata": {},
   "outputs": [
    {
     "data": {
      "text/html": [
       "<div>\n",
       "<style scoped>\n",
       "    .dataframe tbody tr th:only-of-type {\n",
       "        vertical-align: middle;\n",
       "    }\n",
       "\n",
       "    .dataframe tbody tr th {\n",
       "        vertical-align: top;\n",
       "    }\n",
       "\n",
       "    .dataframe thead th {\n",
       "        text-align: right;\n",
       "    }\n",
       "</style>\n",
       "<table border=\"1\" class=\"dataframe\">\n",
       "  <thead>\n",
       "    <tr style=\"text-align: right;\">\n",
       "      <th></th>\n",
       "      <th>buyer_id</th>\n",
       "      <th>buyer_country</th>\n",
       "      <th>seller_id</th>\n",
       "      <th>seller_country</th>\n",
       "      <th>product_code</th>\n",
       "      <th>category</th>\n",
       "      <th>brand</th>\n",
       "      <th>currency</th>\n",
       "      <th>price</th>\n",
       "      <th>date</th>\n",
       "      <th>rate</th>\n",
       "      <th>total</th>\n",
       "    </tr>\n",
       "  </thead>\n",
       "  <tbody>\n",
       "    <tr>\n",
       "      <th>0</th>\n",
       "      <td>qzpjsi9t0o</td>\n",
       "      <td>GB</td>\n",
       "      <td>6oufpaot</td>\n",
       "      <td>GB</td>\n",
       "      <td>ydecnydr6obf</td>\n",
       "      <td>Dresses</td>\n",
       "      <td>NaN</td>\n",
       "      <td>GBP</td>\n",
       "      <td>19.11</td>\n",
       "      <td>2020-08-03</td>\n",
       "      <td>0.89935</td>\n",
       "      <td>21.248680</td>\n",
       "    </tr>\n",
       "    <tr>\n",
       "      <th>1</th>\n",
       "      <td>rd209r8c7c</td>\n",
       "      <td>GB</td>\n",
       "      <td>9p2ansc9</td>\n",
       "      <td>GB</td>\n",
       "      <td>wpxxf59cq7pc</td>\n",
       "      <td>Outerwear - Mens</td>\n",
       "      <td>Adidas Originals</td>\n",
       "      <td>GBP</td>\n",
       "      <td>24.91</td>\n",
       "      <td>2020-08-03</td>\n",
       "      <td>0.89935</td>\n",
       "      <td>27.697782</td>\n",
       "    </tr>\n",
       "    <tr>\n",
       "      <th>2</th>\n",
       "      <td>pqbcrl8azx</td>\n",
       "      <td>GB</td>\n",
       "      <td>r9zmzem8</td>\n",
       "      <td>GB</td>\n",
       "      <td>ua9mmn86wsqy</td>\n",
       "      <td>Tops - Womens</td>\n",
       "      <td>NaN</td>\n",
       "      <td>GBP</td>\n",
       "      <td>19.31</td>\n",
       "      <td>2020-08-03</td>\n",
       "      <td>0.89935</td>\n",
       "      <td>21.471062</td>\n",
       "    </tr>\n",
       "    <tr>\n",
       "      <th>3</th>\n",
       "      <td>j5en1rwmxp</td>\n",
       "      <td>GB</td>\n",
       "      <td>3o2nz88r</td>\n",
       "      <td>GB</td>\n",
       "      <td>tduo2uy8iszl</td>\n",
       "      <td>Bottoms - Womens</td>\n",
       "      <td>Urban Outfitters</td>\n",
       "      <td>GBP</td>\n",
       "      <td>16.98</td>\n",
       "      <td>2020-08-03</td>\n",
       "      <td>0.89935</td>\n",
       "      <td>18.880302</td>\n",
       "    </tr>\n",
       "    <tr>\n",
       "      <th>4</th>\n",
       "      <td>kjdezxeh1l</td>\n",
       "      <td>GB</td>\n",
       "      <td>7g56ublf</td>\n",
       "      <td>GB</td>\n",
       "      <td>39o00tcu89zq</td>\n",
       "      <td>Other</td>\n",
       "      <td>NaN</td>\n",
       "      <td>GBP</td>\n",
       "      <td>2.85</td>\n",
       "      <td>2020-08-03</td>\n",
       "      <td>0.89935</td>\n",
       "      <td>3.168955</td>\n",
       "    </tr>\n",
       "  </tbody>\n",
       "</table>\n",
       "</div>"
      ],
      "text/plain": [
       "     buyer_id buyer_country seller_id seller_country  product_code  \\\n",
       "0  qzpjsi9t0o            GB  6oufpaot             GB  ydecnydr6obf   \n",
       "1  rd209r8c7c            GB  9p2ansc9             GB  wpxxf59cq7pc   \n",
       "2  pqbcrl8azx            GB  r9zmzem8             GB  ua9mmn86wsqy   \n",
       "3  j5en1rwmxp            GB  3o2nz88r             GB  tduo2uy8iszl   \n",
       "4  kjdezxeh1l            GB  7g56ublf             GB  39o00tcu89zq   \n",
       "\n",
       "           category             brand currency  price       date     rate  \\\n",
       "0           Dresses               NaN      GBP  19.11 2020-08-03  0.89935   \n",
       "1  Outerwear - Mens  Adidas Originals      GBP  24.91 2020-08-03  0.89935   \n",
       "2     Tops - Womens               NaN      GBP  19.31 2020-08-03  0.89935   \n",
       "3  Bottoms - Womens  Urban Outfitters      GBP  16.98 2020-08-03  0.89935   \n",
       "4             Other               NaN      GBP   2.85 2020-08-03  0.89935   \n",
       "\n",
       "       total  \n",
       "0  21.248680  \n",
       "1  27.697782  \n",
       "2  21.471062  \n",
       "3  18.880302  \n",
       "4   3.168955  "
      ]
     },
     "execution_count": 285,
     "metadata": {},
     "output_type": "execute_result"
    }
   ],
   "source": [
    "df_dom = df_new[df_new[\"buyer_country\"] == df_new[\"seller_country\"]]\n",
    "df_dom.head()"
   ]
  },
  {
   "cell_type": "code",
   "execution_count": 282,
   "id": "4f513256",
   "metadata": {},
   "outputs": [
    {
     "data": {
      "text/plain": [
       "229214"
      ]
     },
     "execution_count": 282,
     "metadata": {},
     "output_type": "execute_result"
    }
   ],
   "source": [
    "len(df_dom)"
   ]
  },
  {
   "cell_type": "code",
   "execution_count": 284,
   "id": "a0d88112",
   "metadata": {},
   "outputs": [
    {
     "data": {
      "text/html": [
       "<div>\n",
       "<style scoped>\n",
       "    .dataframe tbody tr th:only-of-type {\n",
       "        vertical-align: middle;\n",
       "    }\n",
       "\n",
       "    .dataframe tbody tr th {\n",
       "        vertical-align: top;\n",
       "    }\n",
       "\n",
       "    .dataframe thead th {\n",
       "        text-align: right;\n",
       "    }\n",
       "</style>\n",
       "<table border=\"1\" class=\"dataframe\">\n",
       "  <thead>\n",
       "    <tr style=\"text-align: right;\">\n",
       "      <th></th>\n",
       "      <th>brand</th>\n",
       "      <th>avg_int_sales</th>\n",
       "    </tr>\n",
       "  </thead>\n",
       "  <tbody>\n",
       "    <tr>\n",
       "      <th>0</th>\n",
       "      <td>Goyard</td>\n",
       "      <td>611.456926</td>\n",
       "    </tr>\n",
       "    <tr>\n",
       "      <th>1</th>\n",
       "      <td>Loewe</td>\n",
       "      <td>461.082817</td>\n",
       "    </tr>\n",
       "    <tr>\n",
       "      <th>2</th>\n",
       "      <td>Needles</td>\n",
       "      <td>314.338133</td>\n",
       "    </tr>\n",
       "    <tr>\n",
       "      <th>3</th>\n",
       "      <td>Hermes</td>\n",
       "      <td>267.749153</td>\n",
       "    </tr>\n",
       "    <tr>\n",
       "      <th>4</th>\n",
       "      <td>Craig Green</td>\n",
       "      <td>266.792684</td>\n",
       "    </tr>\n",
       "  </tbody>\n",
       "</table>\n",
       "</div>"
      ],
      "text/plain": [
       "         brand  avg_int_sales\n",
       "0       Goyard     611.456926\n",
       "1        Loewe     461.082817\n",
       "2      Needles     314.338133\n",
       "3       Hermes     267.749153\n",
       "4  Craig Green     266.792684"
      ]
     },
     "execution_count": 284,
     "metadata": {},
     "output_type": "execute_result"
    }
   ],
   "source": [
    "avg_int_sales = df_int.groupby('brand')['total'].mean().sort_values(ascending=False).to_frame()\n",
    "avg_int_sales.reset_index(inplace=True)\n",
    "avg_int_sales.rename({'total': 'avg_int_sales'}, axis=1, inplace=True)\n",
    "avg_int_sales.head()"
   ]
  },
  {
   "cell_type": "code",
   "execution_count": 286,
   "id": "cca09795",
   "metadata": {},
   "outputs": [
    {
     "data": {
      "text/html": [
       "<div>\n",
       "<style scoped>\n",
       "    .dataframe tbody tr th:only-of-type {\n",
       "        vertical-align: middle;\n",
       "    }\n",
       "\n",
       "    .dataframe tbody tr th {\n",
       "        vertical-align: top;\n",
       "    }\n",
       "\n",
       "    .dataframe thead th {\n",
       "        text-align: right;\n",
       "    }\n",
       "</style>\n",
       "<table border=\"1\" class=\"dataframe\">\n",
       "  <thead>\n",
       "    <tr style=\"text-align: right;\">\n",
       "      <th></th>\n",
       "      <th>brand</th>\n",
       "      <th>avg_dom_sales</th>\n",
       "    </tr>\n",
       "  </thead>\n",
       "  <tbody>\n",
       "    <tr>\n",
       "      <th>0</th>\n",
       "      <td>TAG Heuer</td>\n",
       "      <td>224.586782</td>\n",
       "    </tr>\n",
       "    <tr>\n",
       "      <th>1</th>\n",
       "      <td>Canada Goose</td>\n",
       "      <td>216.424622</td>\n",
       "    </tr>\n",
       "    <tr>\n",
       "      <th>2</th>\n",
       "      <td>Emilio Pucci</td>\n",
       "      <td>214.758636</td>\n",
       "    </tr>\n",
       "    <tr>\n",
       "      <th>3</th>\n",
       "      <td>Loeffler Randall</td>\n",
       "      <td>207.720370</td>\n",
       "    </tr>\n",
       "    <tr>\n",
       "      <th>4</th>\n",
       "      <td>Goyard</td>\n",
       "      <td>202.661941</td>\n",
       "    </tr>\n",
       "  </tbody>\n",
       "</table>\n",
       "</div>"
      ],
      "text/plain": [
       "              brand  avg_dom_sales\n",
       "0         TAG Heuer     224.586782\n",
       "1      Canada Goose     216.424622\n",
       "2      Emilio Pucci     214.758636\n",
       "3  Loeffler Randall     207.720370\n",
       "4            Goyard     202.661941"
      ]
     },
     "execution_count": 286,
     "metadata": {},
     "output_type": "execute_result"
    }
   ],
   "source": [
    "avg_dom_sales = df_dom.groupby('brand')['total'].mean().sort_values(ascending=False).to_frame()\n",
    "avg_dom_sales.reset_index(inplace=True)\n",
    "avg_dom_sales.rename({'total': 'avg_dom_sales'}, axis=1, inplace=True)\n",
    "avg_dom_sales.head()"
   ]
  },
  {
   "cell_type": "code",
   "execution_count": 276,
   "id": "5ad0e969",
   "metadata": {},
   "outputs": [
    {
     "data": {
      "text/html": [
       "<div>\n",
       "<style scoped>\n",
       "    .dataframe tbody tr th:only-of-type {\n",
       "        vertical-align: middle;\n",
       "    }\n",
       "\n",
       "    .dataframe tbody tr th {\n",
       "        vertical-align: top;\n",
       "    }\n",
       "\n",
       "    .dataframe thead th {\n",
       "        text-align: right;\n",
       "    }\n",
       "</style>\n",
       "<table border=\"1\" class=\"dataframe\">\n",
       "  <thead>\n",
       "    <tr style=\"text-align: right;\">\n",
       "      <th></th>\n",
       "      <th>brand</th>\n",
       "      <th>avg_int_sales</th>\n",
       "      <th>avg_dom_sales</th>\n",
       "      <th>sales_diff</th>\n",
       "    </tr>\n",
       "  </thead>\n",
       "  <tbody>\n",
       "    <tr>\n",
       "      <th>0</th>\n",
       "      <td>Goyard</td>\n",
       "      <td>611.456926</td>\n",
       "      <td>202.661941</td>\n",
       "      <td>408.794985</td>\n",
       "    </tr>\n",
       "  </tbody>\n",
       "</table>\n",
       "</div>"
      ],
      "text/plain": [
       "    brand  avg_int_sales  avg_dom_sales  sales_diff\n",
       "0  Goyard     611.456926     202.661941  408.794985"
      ]
     },
     "execution_count": 276,
     "metadata": {},
     "output_type": "execute_result"
    }
   ],
   "source": [
    "avg_sales = pd.merge(avg_int_sales, avg_dom_sales, how = 'inner', on = [\"brand\"])\n",
    "avg_sales['sales_diff'] = abs(avg_sales['avg_int_sales'] - avg_sales['avg_dom_sales'])\n",
    "avg_sales.sort_values(by='sales_diff', ascending=False).head(1)"
   ]
  },
  {
   "cell_type": "code",
   "execution_count": null,
   "id": "31ee68d0",
   "metadata": {},
   "outputs": [],
   "source": []
  }
 ],
 "metadata": {
  "kernelspec": {
   "display_name": "Python 3 (ipykernel)",
   "language": "python",
   "name": "python3"
  },
  "language_info": {
   "codemirror_mode": {
    "name": "ipython",
    "version": 3
   },
   "file_extension": ".py",
   "mimetype": "text/x-python",
   "name": "python",
   "nbconvert_exporter": "python",
   "pygments_lexer": "ipython3",
   "version": "3.8.12"
  }
 },
 "nbformat": 4,
 "nbformat_minor": 5
}
